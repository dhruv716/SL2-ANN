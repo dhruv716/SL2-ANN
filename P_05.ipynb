{
 "cells": [
  {
   "cell_type": "code",
   "execution_count": 1,
   "metadata": {},
   "outputs": [],
   "source": [
    "import numpy as np"
   ]
  },
  {
   "cell_type": "code",
   "execution_count": 2,
   "metadata": {},
   "outputs": [],
   "source": [
    "class BAM:\n",
    "    def __init__(self, input_size, output_size):\n",
    "        self.input_size = input_size\n",
    "        self.output_size = output_size\n",
    "        self.weights = np.zeros((input_size, output_size))\n",
    "\n",
    "    def train(self, input_patterns, output_patterns):\n",
    "        for x, y in zip(input_patterns, output_patterns):\n",
    "            self.weights += np.outer(x, y)\n",
    "\n",
    "    def recall(self, input_pattern):\n",
    "        output_pattern = np.dot(input_pattern, self.weights)\n",
    "        output_pattern[output_pattern >= 0] = 1\n",
    "        output_pattern[output_pattern < 0] = -1\n",
    "        return output_pattern\n"
   ]
  },
  {
   "cell_type": "code",
   "execution_count": 3,
   "metadata": {},
   "outputs": [
    {
     "name": "stdout",
     "output_type": "stream",
     "text": [
      "Recalled Output for Input Pattern 1: [ 1. -1. -1.]\n",
      "Recalled Output for Input Pattern 2: [-1. -1.  1.]\n"
     ]
    }
   ],
   "source": [
    "def main():\n",
    "    # Define input and output patterns\n",
    "    input_patterns = [\n",
    "        np.array([1, 1, 1]),\n",
    "        np.array([1, -1, 1])\n",
    "    ]\n",
    "    output_patterns = [\n",
    "        np.array([1, -1, -1]),\n",
    "        np.array([-1, -1, 1])\n",
    "    ]\n",
    "\n",
    "    # Create and train BAM\n",
    "    bam = BAM(input_size=len(input_patterns[0]), output_size=len(output_patterns[0]))\n",
    "    bam.train(input_patterns, output_patterns)\n",
    "\n",
    "    # Recall output for input pattern 1\n",
    "    input_pattern_1 = np.array([1, 1, 1])\n",
    "    recalled_output_1 = bam.recall(input_pattern_1)\n",
    "    print(\"Recalled Output for Input Pattern 1:\", recalled_output_1)\n",
    "\n",
    "    # Recall output for input pattern 2\n",
    "    input_pattern_2 = np.array([1, -1, 1])\n",
    "    recalled_output_2 = bam.recall(input_pattern_2)\n",
    "    print(\"Recalled Output for Input Pattern 2:\", recalled_output_2)\n",
    "    \n",
    "main()"
   ]
  }
 ],
 "metadata": {
  "kernelspec": {
   "display_name": "Python 3.9.18 ('myenv')",
   "language": "python",
   "name": "python3"
  },
  "language_info": {
   "codemirror_mode": {
    "name": "ipython",
    "version": 3
   },
   "file_extension": ".py",
   "mimetype": "text/x-python",
   "name": "python",
   "nbconvert_exporter": "python",
   "pygments_lexer": "ipython3",
   "version": "3.9.18"
  },
  "orig_nbformat": 4,
  "vscode": {
   "interpreter": {
    "hash": "e0b15402db86e3924a8be0f40e4477bbc39fc6773c61cc56d96ddc22ec1bec37"
   }
  }
 },
 "nbformat": 4,
 "nbformat_minor": 2
}
