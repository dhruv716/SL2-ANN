{
 "cells": [
  {
   "cell_type": "code",
   "execution_count": 1,
   "metadata": {},
   "outputs": [],
   "source": [
    "import numpy as np"
   ]
  },
  {
   "cell_type": "code",
   "execution_count": 2,
   "metadata": {},
   "outputs": [],
   "source": [
    "class ART:\n",
    "    def __init__(self, input_size, vigilance):\n",
    "        self.input_size = input_size\n",
    "        self.vigilance = vigilance\n",
    "        self.W = np.zeros((1, input_size))  # Weights matrix\n",
    "        self.n = 0  # Number of clusters\n",
    " \n",
    "    def compute_similarity(self, X):\n",
    "        return np.sum(np.minimum(X, self.W)) / np.sum(X)\n",
    " \n",
    "    def update_weights(self, X):\n",
    "        self.W += (X - self.W) / self.n  # Update weights with the input\n",
    " \n",
    "    def add_cluster(self, X):\n",
    "        self.W = np.vstack((self.W, X))\n",
    "        self.n += 1\n",
    " \n",
    "    def fit(self, X):\n",
    "        for i, x in enumerate(X):\n",
    "            matched = False\n",
    "            for j in range(self.n):\n",
    "                similarity = self.compute_similarity(x)\n",
    "                if similarity >= self.vigilance:\n",
    "                    self.update_weights(x)\n",
    "                    matched = True\n",
    "                    break\n",
    "            if not matched:\n",
    "                self.add_cluster(x)\n",
    "                print(f\"New cluster created for sample {i+1}\")\n",
    " \n",
    "    def predict(self, X):\n",
    "        labels = []\n",
    "        for x in X:\n",
    "            matched = False\n",
    "            for j in range(self.n):\n",
    "                similarity = self.compute_similarity(x)\n",
    "                if similarity >= self.vigilance:\n",
    "                    labels.append(j)\n",
    "                    matched = True\n",
    "                    break\n",
    "            if not matched:\n",
    "                labels.append(-1)  # Unknown cluster\n",
    "        return labels"
   ]
  },
  {
   "cell_type": "code",
   "execution_count": 3,
   "metadata": {},
   "outputs": [],
   "source": [
    "X = np.array([[1, 0, 0],\n",
    "              [0, 1, 0],\n",
    "              [0, 0, 1],\n",
    "              [1, 1, 1]])"
   ]
  },
  {
   "cell_type": "code",
   "execution_count": 4,
   "metadata": {},
   "outputs": [
    {
     "name": "stdout",
     "output_type": "stream",
     "text": [
      "New cluster created for sample 1\n",
      "New cluster created for sample 2\n",
      "New cluster created for sample 3\n"
     ]
    }
   ],
   "source": [
    "art = ART(input_size=X.shape[1], vigilance=0.5)\n",
    "art.fit(X)\n",
    " \n",
    "# Test the ART network\n",
    "test_data = np.array([[0, 1, 1],\n",
    "                      [1, 0, 1]])"
   ]
  },
  {
   "cell_type": "code",
   "execution_count": 5,
   "metadata": {},
   "outputs": [
    {
     "name": "stdout",
     "output_type": "stream",
     "text": [
      "Predicted Labels: [0, 0]\n"
     ]
    }
   ],
   "source": [
    "predicted_labels = art.predict(test_data)\n",
    "print(\"Predicted Labels:\", predicted_labels)"
   ]
  }
 ],
 "metadata": {
  "kernelspec": {
   "display_name": "Python 3.9.18 ('myenv')",
   "language": "python",
   "name": "python3"
  },
  "language_info": {
   "codemirror_mode": {
    "name": "ipython",
    "version": 3
   },
   "file_extension": ".py",
   "mimetype": "text/x-python",
   "name": "python",
   "nbconvert_exporter": "python",
   "pygments_lexer": "ipython3",
   "version": "3.9.18"
  },
  "orig_nbformat": 4,
  "vscode": {
   "interpreter": {
    "hash": "e0b15402db86e3924a8be0f40e4477bbc39fc6773c61cc56d96ddc22ec1bec37"
   }
  }
 },
 "nbformat": 4,
 "nbformat_minor": 2
}
