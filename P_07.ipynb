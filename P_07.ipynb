{
 "cells": [
  {
   "cell_type": "code",
   "execution_count": 5,
   "metadata": {},
   "outputs": [],
   "source": [
    "import numpy as np"
   ]
  },
  {
   "cell_type": "code",
   "execution_count": 6,
   "metadata": {},
   "outputs": [],
   "source": [
    "class XORNetwork:\n",
    "    def __init__(self):\n",
    "        self.W1 = np.random.randn(2, 2)\n",
    "        self.b1 = np.random.randn(1, 2)\n",
    "        self.W2 = np.random.randn(2, 1)\n",
    "        self.b2 = np.random.randn(1, 1)\n",
    "\n",
    "    def sigmoid(self, x):\n",
    "        return 1 / (1 + np.exp(-x))\n",
    "\n",
    "    def sigmoid_derivative(self, x):\n",
    "        return x * (1 - x)\n",
    "\n",
    "    def forward_pass(self, X):\n",
    "        self.z1 = np.dot(X, self.W1) + self.b1\n",
    "        self.a1 = self.sigmoid(self.z1)\n",
    "        self.z2 = np.dot(self.a1, self.W2) + self.b2\n",
    "        self.a2 = self.sigmoid(self.z2)\n",
    "        return self.a2\n",
    "\n",
    "    def backpropagation(self, X, y, output):\n",
    "        output_error = y - output\n",
    "        output_delta = output_error * self.sigmoid_derivative(output)\n",
    "        z1_error = output_delta.dot(self.W2.T)\n",
    "        z1_delta = z1_error * self.sigmoid_derivative(self.a1)\n",
    "        \n",
    "        self.W1 += X.T.dot(z1_delta)\n",
    "        self.b1 += np.sum(z1_delta, axis=0, keepdims=True)\n",
    "        self.W2 += self.a1.T.dot(output_delta)\n",
    "        self.b2 += np.sum(output_delta, axis=0, keepdims=True)\n",
    "\n",
    "    def train(self, X, y, epochs):\n",
    "        for _ in range(epochs):\n",
    "            output = self.forward_pass(X)\n",
    "            self.backpropagation(X, y, output)\n",
    "\n",
    "    def predict(self, X):\n",
    "        return self.forward_pass(X)"
   ]
  },
  {
   "cell_type": "code",
   "execution_count": 8,
   "metadata": {},
   "outputs": [
    {
     "name": "stdout",
     "output_type": "stream",
     "text": [
      "Input: [0 0] , Predicted Output: [0.01186545]\n",
      "Input: [0 1] , Predicted Output: [0.49967593]\n",
      "Input: [1 0] , Predicted Output: [0.99037736]\n",
      "Input: [1 1] , Predicted Output: [0.50016427]\n"
     ]
    }
   ],
   "source": [
    "def main():\n",
    "    xor_nn = XORNetwork()\n",
    "\n",
    "    X = np.array([[0, 0], [0, 1], [1, 0], [1, 1]])\n",
    "    y = np.array([[0], [1], [1], [0]])\n",
    "\n",
    "    xor_nn.train(X, y, epochs=10000)\n",
    "\n",
    "    predictions = xor_nn.predict(X)\n",
    "\n",
    "    for i in range(len(X)):\n",
    "        print(\"Input:\", X[i], \", Predicted Output:\", predictions[i])\n",
    "        \n",
    "main()\n",
    "    "
   ]
  }
 ],
 "metadata": {
  "kernelspec": {
   "display_name": "Python 3.9.18 ('myenv')",
   "language": "python",
   "name": "python3"
  },
  "language_info": {
   "codemirror_mode": {
    "name": "ipython",
    "version": 3
   },
   "file_extension": ".py",
   "mimetype": "text/x-python",
   "name": "python",
   "nbconvert_exporter": "python",
   "pygments_lexer": "ipython3",
   "version": "3.9.18"
  },
  "orig_nbformat": 4,
  "vscode": {
   "interpreter": {
    "hash": "e0b15402db86e3924a8be0f40e4477bbc39fc6773c61cc56d96ddc22ec1bec37"
   }
  }
 },
 "nbformat": 4,
 "nbformat_minor": 2
}
